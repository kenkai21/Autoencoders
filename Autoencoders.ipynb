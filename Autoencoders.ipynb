{
 "cells": [
  {
   "cell_type": "markdown",
   "metadata": {},
   "source": [
    "# Autoeconders with tensorflow"
   ]
  },
  {
   "cell_type": "markdown",
   "metadata": {},
   "source": [
    "In this Tutorial we will implement various autoencoder architectures on our beloved (Fashion) MNIST data."
   ]
  },
  {
   "cell_type": "code",
   "execution_count": 2,
   "metadata": {
    "colab": {},
    "colab_type": "code",
    "id": "gTS_QOUwOiGu"
   },
   "outputs": [],
   "source": [
    "import numpy as np\n",
    "import tensorflow as tf\n",
    "\n",
    "# import cv as cv2"
   ]
  },
  {
   "cell_type": "code",
   "execution_count": 3,
   "metadata": {
    "colab": {},
    "colab_type": "code",
    "id": "vG7XLJ0VOnG2"
   },
   "outputs": [],
   "source": [
    "(x_train, train_label), (x_test, test_label) = tf.keras.datasets.mnist.load_data()\n",
    "\n",
    "x_train = x_train.astype('float32') / 255.\n",
    "x_test = x_test.astype('float32') / 255.\n",
    "x_train = x_train.reshape((len(x_train), np.prod(x_train.shape[1:])))\n",
    "x_test = x_test.reshape((len(x_test), np.prod(x_test.shape[1:])))"
   ]
  },
  {
   "cell_type": "markdown",
   "metadata": {},
   "source": [
    "# MLP Autoencoders "
   ]
  },
  {
   "cell_type": "code",
   "execution_count": 4,
   "metadata": {
    "colab": {},
    "colab_type": "code",
    "id": "kKaHnGGi5mG7"
   },
   "outputs": [
    {
     "name": "stderr",
     "output_type": "stream",
     "text": [
      "Using TensorFlow backend.\n"
     ]
    }
   ],
   "source": [
    "from keras.layers import Input, Dense\n",
    "from keras.models import Model\n",
    "\n",
    "input_img = Input(shape=(784,))\n",
    "encoded = Dense(128, activation='relu')(input_img)\n",
    "encoded = Dense(64, activation='relu')(encoded)\n",
    "encoded = Dense(32, activation='relu')(encoded)\n",
    "\n",
    "decoded = Dense(64, activation='relu')(encoded)\n",
    "decoded = Dense(128, activation='relu')(decoded)\n",
    "decoded = Dense(784, activation='sigmoid')(decoded)"
   ]
  },
  {
   "cell_type": "code",
   "execution_count": 5,
   "metadata": {
    "colab": {},
    "colab_type": "code",
    "id": "APpX5ZWV7ukP"
   },
   "outputs": [],
   "source": [
    "autoencoder = Model(input_img, decoded)"
   ]
  },
  {
   "cell_type": "code",
   "execution_count": 6,
   "metadata": {
    "colab": {
     "base_uri": "https://localhost:8080/",
     "height": 385
    },
    "colab_type": "code",
    "id": "OcPAKCACvG65",
    "outputId": "067c948f-8e71-4936-f2a8-8eccd2c18788"
   },
   "outputs": [
    {
     "name": "stdout",
     "output_type": "stream",
     "text": [
      "Model: \"model_1\"\n",
      "_________________________________________________________________\n",
      "Layer (type)                 Output Shape              Param #   \n",
      "=================================================================\n",
      "input_1 (InputLayer)         (None, 784)               0         \n",
      "_________________________________________________________________\n",
      "dense_1 (Dense)              (None, 128)               100480    \n",
      "_________________________________________________________________\n",
      "dense_2 (Dense)              (None, 64)                8256      \n",
      "_________________________________________________________________\n",
      "dense_3 (Dense)              (None, 32)                2080      \n",
      "_________________________________________________________________\n",
      "dense_4 (Dense)              (None, 64)                2112      \n",
      "_________________________________________________________________\n",
      "dense_5 (Dense)              (None, 128)               8320      \n",
      "_________________________________________________________________\n",
      "dense_6 (Dense)              (None, 784)               101136    \n",
      "=================================================================\n",
      "Total params: 222,384\n",
      "Trainable params: 222,384\n",
      "Non-trainable params: 0\n",
      "_________________________________________________________________\n"
     ]
    }
   ],
   "source": [
    "autoencoder.compile(optimizer='adam', loss='binary_crossentropy')\n",
    "autoencoder.summary()"
   ]
  },
  {
   "cell_type": "code",
   "execution_count": 16,
   "metadata": {
    "colab": {
     "base_uri": "https://localhost:8080/",
     "height": 406
    },
    "colab_type": "code",
    "id": "EEuhUfKaxi6m",
    "outputId": "555c20ef-17ae-4fb1-ad66-aa5398280b4e"
   },
   "outputs": [
    {
     "name": "stdout",
     "output_type": "stream",
     "text": [
      "Train on 60000 samples, validate on 10000 samples\n",
      "Epoch 1/50\n",
      "60000/60000 [==============================] - 3s 42us/step - loss: 0.1437 - val_loss: 0.1331\n",
      "Epoch 2/50\n",
      "60000/60000 [==============================] - 2s 40us/step - loss: 0.1289 - val_loss: 0.1224\n",
      "Epoch 3/50\n",
      "60000/60000 [==============================] - 2s 41us/step - loss: 0.1204 - val_loss: 0.1162\n",
      "Epoch 4/50\n",
      "60000/60000 [==============================] - 2s 41us/step - loss: 0.1153 - val_loss: 0.1120\n",
      "Epoch 5/50\n",
      "60000/60000 [==============================] - 2s 39us/step - loss: 0.1115 - val_loss: 0.1087\n",
      "Epoch 6/50\n",
      "60000/60000 [==============================] - 2s 38us/step - loss: 0.1082 - val_loss: 0.1059\n",
      "Epoch 7/50\n",
      "60000/60000 [==============================] - 2s 39us/step - loss: 0.1052 - val_loss: 0.1029\n",
      "Epoch 8/50\n",
      "60000/60000 [==============================] - 2s 39us/step - loss: 0.1030 - val_loss: 0.1011\n",
      "Epoch 9/50\n",
      "60000/60000 [==============================] - 2s 39us/step - loss: 0.1012 - val_loss: 0.0995\n",
      "Epoch 10/50\n",
      "60000/60000 [==============================] - 2s 39us/step - loss: 0.0995 - val_loss: 0.0978\n",
      "Epoch 11/50\n",
      "60000/60000 [==============================] - 2s 38us/step - loss: 0.0982 - val_loss: 0.0968\n",
      "Epoch 12/50\n",
      "60000/60000 [==============================] - 2s 39us/step - loss: 0.0970 - val_loss: 0.0959\n",
      "Epoch 13/50\n",
      "60000/60000 [==============================] - 2s 38us/step - loss: 0.0959 - val_loss: 0.0945\n",
      "Epoch 14/50\n",
      "60000/60000 [==============================] - 2s 39us/step - loss: 0.0949 - val_loss: 0.0936\n",
      "Epoch 15/50\n",
      "60000/60000 [==============================] - 2s 40us/step - loss: 0.0940 - val_loss: 0.0927\n",
      "Epoch 16/50\n",
      "60000/60000 [==============================] - 2s 38us/step - loss: 0.0932 - val_loss: 0.0918\n",
      "Epoch 17/50\n",
      "60000/60000 [==============================] - 2s 39us/step - loss: 0.0924 - val_loss: 0.0911\n",
      "Epoch 18/50\n",
      "60000/60000 [==============================] - 2s 42us/step - loss: 0.0919 - val_loss: 0.0906\n",
      "Epoch 19/50\n",
      "60000/60000 [==============================] - 2s 39us/step - loss: 0.0913 - val_loss: 0.0904\n",
      "Epoch 20/50\n",
      "60000/60000 [==============================] - 2s 40us/step - loss: 0.0909 - val_loss: 0.0902\n",
      "Epoch 21/50\n",
      "60000/60000 [==============================] - 2s 41us/step - loss: 0.0905 - val_loss: 0.0895\n",
      "Epoch 22/50\n",
      "60000/60000 [==============================] - 2s 40us/step - loss: 0.0901 - val_loss: 0.0890\n",
      "Epoch 23/50\n",
      "60000/60000 [==============================] - 2s 39us/step - loss: 0.0897 - val_loss: 0.0886\n",
      "Epoch 24/50\n",
      "60000/60000 [==============================] - 2s 40us/step - loss: 0.0894 - val_loss: 0.0885\n",
      "Epoch 25/50\n",
      "60000/60000 [==============================] - 2s 39us/step - loss: 0.0891 - val_loss: 0.0887\n",
      "Epoch 26/50\n",
      "60000/60000 [==============================] - 2s 41us/step - loss: 0.0888 - val_loss: 0.0879\n",
      "Epoch 27/50\n",
      "60000/60000 [==============================] - 2s 40us/step - loss: 0.0885 - val_loss: 0.0877\n",
      "Epoch 28/50\n",
      "60000/60000 [==============================] - 2s 39us/step - loss: 0.0882 - val_loss: 0.0876\n",
      "Epoch 29/50\n",
      "60000/60000 [==============================] - 2s 39us/step - loss: 0.0880 - val_loss: 0.0871\n",
      "Epoch 30/50\n",
      "60000/60000 [==============================] - 2s 39us/step - loss: 0.0877 - val_loss: 0.0869\n",
      "Epoch 31/50\n",
      "60000/60000 [==============================] - 2s 39us/step - loss: 0.0874 - val_loss: 0.0867\n",
      "Epoch 32/50\n",
      "60000/60000 [==============================] - 2s 40us/step - loss: 0.0872 - val_loss: 0.0867\n",
      "Epoch 33/50\n",
      "60000/60000 [==============================] - 2s 39us/step - loss: 0.0871 - val_loss: 0.0865\n",
      "Epoch 34/50\n",
      "60000/60000 [==============================] - 2s 40us/step - loss: 0.0868 - val_loss: 0.0861\n",
      "Epoch 35/50\n",
      "60000/60000 [==============================] - 2s 39us/step - loss: 0.0867 - val_loss: 0.0861\n",
      "Epoch 36/50\n",
      "60000/60000 [==============================] - 2s 39us/step - loss: 0.0865 - val_loss: 0.0860\n",
      "Epoch 37/50\n",
      "60000/60000 [==============================] - 2s 40us/step - loss: 0.0863 - val_loss: 0.0860\n",
      "Epoch 38/50\n",
      "60000/60000 [==============================] - 2s 39us/step - loss: 0.0862 - val_loss: 0.0855\n",
      "Epoch 39/50\n",
      "60000/60000 [==============================] - 2s 39us/step - loss: 0.0860 - val_loss: 0.0855\n",
      "Epoch 40/50\n",
      "60000/60000 [==============================] - 2s 39us/step - loss: 0.0859 - val_loss: 0.0852\n",
      "Epoch 41/50\n",
      "60000/60000 [==============================] - 2s 39us/step - loss: 0.0858 - val_loss: 0.0852\n",
      "Epoch 42/50\n",
      "60000/60000 [==============================] - 2s 38us/step - loss: 0.0856 - val_loss: 0.0849\n",
      "Epoch 43/50\n",
      "60000/60000 [==============================] - 2s 39us/step - loss: 0.0855 - val_loss: 0.0851\n",
      "Epoch 44/50\n",
      "60000/60000 [==============================] - 2s 38us/step - loss: 0.0854 - val_loss: 0.0849\n",
      "Epoch 45/50\n",
      "60000/60000 [==============================] - 2s 39us/step - loss: 0.0852 - val_loss: 0.0848\n",
      "Epoch 46/50\n",
      "60000/60000 [==============================] - 2s 41us/step - loss: 0.0852 - val_loss: 0.0845\n",
      "Epoch 47/50\n",
      "60000/60000 [==============================] - 2s 39us/step - loss: 0.0850 - val_loss: 0.0848\n",
      "Epoch 48/50\n",
      "60000/60000 [==============================] - 2s 40us/step - loss: 0.0849 - val_loss: 0.0844\n",
      "Epoch 49/50\n",
      "60000/60000 [==============================] - 2s 40us/step - loss: 0.0848 - val_loss: 0.0842\n",
      "Epoch 50/50\n",
      "60000/60000 [==============================] - 2s 39us/step - loss: 0.0846 - val_loss: 0.0845\n"
     ]
    },
    {
     "data": {
      "text/plain": [
       "<keras.callbacks.callbacks.History at 0x18996277c08>"
      ]
     },
     "execution_count": 16,
     "metadata": {},
     "output_type": "execute_result"
    }
   ],
   "source": [
    "autoencoder.fit(x_train, x_train,\n",
    "                epochs=50,\n",
    "                batch_size=256,\n",
    "                shuffle=True,\n",
    "                validation_data=(x_test, x_test))"
   ]
  },
  {
   "cell_type": "markdown",
   "metadata": {
    "colab_type": "text",
    "id": "QsK7719mW8Zi"
   },
   "source": [
    "## Filter visualization"
   ]
  },
  {
   "cell_type": "code",
   "execution_count": 17,
   "metadata": {
    "colab": {
     "base_uri": "https://localhost:8080/",
     "height": 451
    },
    "colab_type": "code",
    "id": "pU3Sg_FJmrrn",
    "outputId": "ef0ab7f9-eff5-48d4-810d-45c13f668f35"
   },
   "outputs": [
    {
     "ename": "NameError",
     "evalue": "name 'cv2' is not defined",
     "output_type": "error",
     "traceback": [
      "\u001b[1;31m---------------------------------------------------------------------------\u001b[0m",
      "\u001b[1;31mNameError\u001b[0m                                 Traceback (most recent call last)",
      "\u001b[1;32m<ipython-input-17-ea52c4732899>\u001b[0m in \u001b[0;36m<module>\u001b[1;34m\u001b[0m\n\u001b[0;32m     13\u001b[0m \u001b[0mplt\u001b[0m\u001b[1;33m.\u001b[0m\u001b[0mtitle\u001b[0m\u001b[1;33m(\u001b[0m\u001b[1;34m'Encoded Weights'\u001b[0m\u001b[1;33m)\u001b[0m\u001b[1;33m\u001b[0m\u001b[1;33m\u001b[0m\u001b[0m\n\u001b[0;32m     14\u001b[0m \u001b[0mplt\u001b[0m\u001b[1;33m.\u001b[0m\u001b[0mimshow\u001b[0m\u001b[1;33m(\u001b[0m\u001b[0mweights\u001b[0m\u001b[1;33m[\u001b[0m\u001b[1;36m3\u001b[0m\u001b[1;33m]\u001b[0m\u001b[1;33m.\u001b[0m\u001b[0mreshape\u001b[0m\u001b[1;33m(\u001b[0m\u001b[1;36m8\u001b[0m\u001b[1;33m,\u001b[0m \u001b[1;36m8\u001b[0m\u001b[1;33m)\u001b[0m\u001b[1;33m,\u001b[0m \u001b[0mcmap\u001b[0m\u001b[1;33m=\u001b[0m\u001b[1;34m'gray'\u001b[0m\u001b[1;33m)\u001b[0m\u001b[1;33m\u001b[0m\u001b[1;33m\u001b[0m\u001b[0m\n\u001b[1;32m---> 15\u001b[1;33m \u001b[0mc\u001b[0m \u001b[1;33m=\u001b[0m \u001b[0mcv2\u001b[0m\u001b[1;33m.\u001b[0m\u001b[0mfilter2D\u001b[0m\u001b[1;33m(\u001b[0m\u001b[0mx_test\u001b[0m\u001b[1;33m[\u001b[0m\u001b[1;36m1\u001b[0m\u001b[1;33m]\u001b[0m\u001b[1;33m.\u001b[0m\u001b[0mreshape\u001b[0m\u001b[1;33m(\u001b[0m\u001b[1;36m28\u001b[0m\u001b[1;33m,\u001b[0m \u001b[1;36m28\u001b[0m\u001b[1;33m)\u001b[0m\u001b[1;33m,\u001b[0m \u001b[1;33m-\u001b[0m\u001b[1;36m1\u001b[0m\u001b[1;33m,\u001b[0m \u001b[0mencodedfeature\u001b[0m\u001b[1;33m)\u001b[0m\u001b[1;33m\u001b[0m\u001b[1;33m\u001b[0m\u001b[0m\n\u001b[0m\u001b[0;32m     16\u001b[0m \u001b[0mfig\u001b[0m\u001b[1;33m.\u001b[0m\u001b[0madd_subplot\u001b[0m\u001b[1;33m(\u001b[0m\u001b[1;36m2\u001b[0m\u001b[1;33m,\u001b[0m \u001b[1;36m2\u001b[0m\u001b[1;33m,\u001b[0m \u001b[1;36m1\u001b[0m\u001b[1;33m)\u001b[0m\u001b[1;33m\u001b[0m\u001b[1;33m\u001b[0m\u001b[0m\n\u001b[0;32m     17\u001b[0m \u001b[0mplt\u001b[0m\u001b[1;33m.\u001b[0m\u001b[0mtitle\u001b[0m\u001b[1;33m(\u001b[0m\u001b[1;34m'Weights over original image'\u001b[0m\u001b[1;33m)\u001b[0m\u001b[1;33m\u001b[0m\u001b[1;33m\u001b[0m\u001b[0m\n",
      "\u001b[1;31mNameError\u001b[0m: name 'cv2' is not defined"
     ]
    },
    {
     "data": {
      "image/png": "[encoded data removed]",
      "text/plain": [
       "<Figure size 432x288 with 1 Axes>"
      ]
     },
     "metadata": {
      "needs_background": "light"
     },
     "output_type": "display_data"
    },
    {
     "data": {
      "image/png": "[encoded data removed]",
      "text/plain": [
       "<Figure size 720x360 with 1 Axes>"
      ]
     },
     "metadata": {
      "needs_background": "light"
     },
     "output_type": "display_data"
    }
   ],
   "source": [
    "import matplotlib.pyplot as plt\n",
    "from PIL import *\n",
    "\n",
    "weights = autoencoder.get_weights()\n",
    "\n",
    "encodedfeature = np.reshape(weights[3], (8, 8))\n",
    "\n",
    "plt.title('Original Sample Data')\n",
    "plt.imshow(x_test[1].reshape(28,28))\n",
    "\n",
    "fig=plt.figure(figsize=(10, 5))\n",
    "fig.add_subplot(2, 1, 1)\n",
    "plt.title('Encoded Weights')\n",
    "plt.imshow(weights[3].reshape(8, 8), cmap='gray')\n",
    "c = cv2.filter2D(x_test[1].reshape(28, 28), -1, encodedfeature)\n",
    "fig.add_subplot(2, 2, 1)\n",
    "plt.title('Weights over original image')\n",
    "plt.imshow(c, cmap='gray')\n",
    "plt.show()"
   ]
  },
  {
   "cell_type": "code",
   "execution_count": 18,
   "metadata": {
    "colab": {},
    "colab_type": "code",
    "id": "PlYfSuPO7GOn"
   },
   "outputs": [],
   "source": [
    "decoded_imgs = autoencoder.predict(x_test)"
   ]
  },
  {
   "cell_type": "code",
   "execution_count": 19,
   "metadata": {
    "colab": {
     "base_uri": "https://localhost:8080/",
     "height": 216
    },
    "colab_type": "code",
    "id": "GG4A6EAlt09u",
    "outputId": "560cab55-48a6-46de-a286-b67dfa2210f6"
   },
   "outputs": [
    {
     "data": {
      "image/png": "[encoded data removed]",
      "text/plain": [
       "<Figure size 1440x288 with 20 Axes>"
      ]
     },
     "metadata": {
      "needs_background": "light"
     },
     "output_type": "display_data"
    }
   ],
   "source": [
    "import matplotlib.pyplot as plt\n",
    "\n",
    "n = 10  # how many digits we will display\n",
    "plt.figure(figsize=(20, 4))\n",
    "for i in range(n):\n",
    "    # display original\n",
    "    ax = plt.subplot(2, n, i + 1)\n",
    "    plt.imshow(x_test[i].reshape(28, 28))\n",
    "    plt.gray()\n",
    "    ax.get_xaxis().set_visible(False)\n",
    "    ax.get_yaxis().set_visible(False)\n",
    "\n",
    "    # display reconstruction\n",
    "    ax = plt.subplot(2, n, i + 1 + n)\n",
    "    plt.imshow(decoded_imgs[i].reshape(28, 28))\n",
    "    plt.gray()\n",
    "    ax.get_xaxis().set_visible(False)\n",
    "    ax.get_yaxis().set_visible(False)\n",
    "plt.show()"
   ]
  },
  {
   "cell_type": "markdown",
   "metadata": {
    "colab_type": "text",
    "id": "QTRIHSlOv_AN"
   },
   "source": [
    "# Convolutional Autoencoders"
   ]
  },
  {
   "cell_type": "code",
   "execution_count": 20,
   "metadata": {
    "colab": {
     "base_uri": "https://localhost:8080/",
     "height": 619
    },
    "colab_type": "code",
    "id": "snSB8am-9OL8",
    "outputId": "12f750b9-76ff-4a92-b73a-6814d8a72678"
   },
   "outputs": [
    {
     "name": "stdout",
     "output_type": "stream",
     "text": [
      "Model: \"model_2\"\n",
      "_________________________________________________________________\n",
      "Layer (type)                 Output Shape              Param #   \n",
      "=================================================================\n",
      "input_2 (InputLayer)         (None, 28, 28, 1)         0         \n",
      "_________________________________________________________________\n",
      "conv2d_1 (Conv2D)            (None, 28, 28, 16)        160       \n",
      "_________________________________________________________________\n",
      "max_pooling2d_1 (MaxPooling2 (None, 14, 14, 16)        0         \n",
      "_________________________________________________________________\n",
      "conv2d_2 (Conv2D)            (None, 14, 14, 8)         1160      \n",
      "_________________________________________________________________\n",
      "max_pooling2d_2 (MaxPooling2 (None, 7, 7, 8)           0         \n",
      "_________________________________________________________________\n",
      "conv2d_3 (Conv2D)            (None, 7, 7, 8)           584       \n",
      "_________________________________________________________________\n",
      "max_pooling2d_3 (MaxPooling2 (None, 4, 4, 8)           0         \n",
      "_________________________________________________________________\n",
      "conv2d_4 (Conv2D)            (None, 4, 4, 8)           584       \n",
      "_________________________________________________________________\n",
      "up_sampling2d_1 (UpSampling2 (None, 8, 8, 8)           0         \n",
      "_________________________________________________________________\n",
      "conv2d_5 (Conv2D)            (None, 8, 8, 8)           584       \n",
      "_________________________________________________________________\n",
      "up_sampling2d_2 (UpSampling2 (None, 16, 16, 8)         0         \n",
      "_________________________________________________________________\n",
      "conv2d_6 (Conv2D)            (None, 14, 14, 16)        1168      \n",
      "_________________________________________________________________\n",
      "up_sampling2d_3 (UpSampling2 (None, 28, 28, 16)        0         \n",
      "_________________________________________________________________\n",
      "conv2d_7 (Conv2D)            (None, 28, 28, 1)         145       \n",
      "=================================================================\n",
      "Total params: 4,385\n",
      "Trainable params: 4,385\n",
      "Non-trainable params: 0\n",
      "_________________________________________________________________\n"
     ]
    }
   ],
   "source": [
    "from keras.layers import *\n",
    "from keras.models import Model\n",
    "# from keras import backend as K\n",
    "\n",
    "input_img = Input(shape=(28, 28, 1))  # adapt this if using `channels_first` image data format\n",
    "\n",
    "x = Conv2D(16, (3, 3), activation='relu', padding='same')(input_img)\n",
    "x = MaxPooling2D((2, 2), padding='same')(x)\n",
    "x = Conv2D(8, (3, 3), activation='relu', padding='same')(x)\n",
    "x = MaxPooling2D((2, 2), padding='same')(x)\n",
    "x = Conv2D(8, (3, 3), activation='relu', padding='same')(x)\n",
    "encoded = MaxPooling2D((2, 2), padding='same')(x)\n",
    "\n",
    "# at this point the representation is (4, 4, 8) i.e. 128-dimensional\n",
    "\n",
    "x = Conv2D(8, (3, 3), activation='relu', padding='same')(encoded)\n",
    "x = UpSampling2D((2, 2))(x)\n",
    "x = Conv2D(8, (3, 3), activation='relu', padding='same')(x)\n",
    "x = UpSampling2D((2, 2))(x)\n",
    "x = Conv2D(16, (3, 3), activation='relu')(x)\n",
    "x = UpSampling2D((2, 2))(x)\n",
    "decoded = Conv2D(1, (3, 3), activation='sigmoid', padding='same')(x)\n",
    "\n",
    "\n",
    "Conv_autoencoder = Model(input_img, decoded)\n",
    "\n",
    "Conv_autoencoder.compile(optimizer='adam', loss='binary_crossentropy')\n",
    "Conv_autoencoder.summary()"
   ]
  },
  {
   "cell_type": "code",
   "execution_count": 21,
   "metadata": {
    "colab": {},
    "colab_type": "code",
    "id": "AJBAKk32-GxG"
   },
   "outputs": [],
   "source": [
    "(x_train, train_label), (x_test, test_label) = tf.keras.datasets.mnist.load_data()\n",
    "\n",
    "x_train = x_train.astype('float32') / 255.\n",
    "x_test = x_test.astype('float32') / 255.\n",
    "x_train = np.reshape(x_train, (len(x_train), 28, 28, 1))  # adapt this if using `channels_first` image data format\n",
    "x_test = np.reshape(x_test, (len(x_test), 28, 28, 1))  # adapt this if using `channels_first` image data format\n",
    "\n"
   ]
  },
  {
   "cell_type": "markdown",
   "metadata": {},
   "source": [
    "Run the cells below to see how the output of the model without training"
   ]
  },
  {
   "cell_type": "code",
   "execution_count": 101,
   "metadata": {
    "colab": {
     "base_uri": "https://localhost:8080/",
     "height": 406
    },
    "colab_type": "code",
    "id": "C77oLgcg9nno",
    "outputId": "0e179b44-f1dc-4e1d-f05f-f7954fcfa501"
   },
   "outputs": [
    {
     "name": "stdout",
     "output_type": "stream",
     "text": [
      "Train on 60000 samples, validate on 10000 samples\n",
      "Epoch 1/50\n",
      "60000/60000 [==============================] - 62s 1ms/step - loss: 0.2600 - val_loss: 0.1728\n",
      "Epoch 2/50\n",
      "60000/60000 [==============================] - 58s 965us/step - loss: 0.1578 - val_loss: 0.1444\n",
      "Epoch 3/50\n",
      "60000/60000 [==============================] - 59s 978us/step - loss: 0.1392 - val_loss: 0.1329\n",
      "Epoch 4/50\n",
      "60000/60000 [==============================] - 58s 973us/step - loss: 0.1302 - val_loss: 0.1257\n",
      "Epoch 5/50\n",
      "60000/60000 [==============================] - 58s 970us/step - loss: 0.1242 - val_loss: 0.1207\n",
      "Epoch 6/50\n",
      "60000/60000 [==============================] - 58s 968us/step - loss: 0.1194 - val_loss: 0.1162\n",
      "Epoch 7/50\n",
      "60000/60000 [==============================] - 59s 980us/step - loss: 0.1155 - val_loss: 0.1134\n",
      "Epoch 8/50\n",
      "60000/60000 [==============================] - 58s 972us/step - loss: 0.1126 - val_loss: 0.1102\n",
      "Epoch 9/50\n",
      "60000/60000 [==============================] - 58s 964us/step - loss: 0.1104 - val_loss: 0.1082\n",
      "Epoch 10/50\n",
      "60000/60000 [==============================] - 58s 970us/step - loss: 0.1086 - val_loss: 0.1069\n",
      "Epoch 11/50\n",
      "60000/60000 [==============================] - 58s 969us/step - loss: 0.1072 - val_loss: 0.1050\n",
      "Epoch 12/50\n",
      "60000/60000 [==============================] - 58s 968us/step - loss: 0.1059 - val_loss: 0.1041\n",
      "Epoch 13/50\n",
      "60000/60000 [==============================] - 58s 966us/step - loss: 0.1046 - val_loss: 0.1028\n",
      "Epoch 14/50\n",
      "60000/60000 [==============================] - 58s 970us/step - loss: 0.1036 - val_loss: 0.1018\n",
      "Epoch 15/50\n",
      "60000/60000 [==============================] - 58s 969us/step - loss: 0.1026 - val_loss: 0.1009\n",
      "Epoch 16/50\n",
      "60000/60000 [==============================] - 58s 974us/step - loss: 0.1018 - val_loss: 0.1001\n",
      "Epoch 17/50\n",
      "60000/60000 [==============================] - 58s 969us/step - loss: 0.1009 - val_loss: 0.0991\n",
      "Epoch 18/50\n",
      "60000/60000 [==============================] - 58s 966us/step - loss: 0.1003 - val_loss: 0.0985\n",
      "Epoch 19/50\n",
      "60000/60000 [==============================] - 58s 961us/step - loss: 0.0995 - val_loss: 0.0979\n",
      "Epoch 20/50\n",
      "60000/60000 [==============================] - 58s 962us/step - loss: 0.0990 - val_loss: 0.0972\n",
      "Epoch 21/50\n",
      "60000/60000 [==============================] - 58s 974us/step - loss: 0.0984 - val_loss: 0.0970\n",
      "Epoch 22/50\n",
      "60000/60000 [==============================] - 58s 968us/step - loss: 0.0978 - val_loss: 0.0974\n",
      "Epoch 23/50\n",
      "60000/60000 [==============================] - 58s 966us/step - loss: 0.0975 - val_loss: 0.0965\n",
      "Epoch 24/50\n",
      "60000/60000 [==============================] - 58s 961us/step - loss: 0.0970 - val_loss: 0.0955\n",
      "Epoch 25/50\n",
      "60000/60000 [==============================] - 58s 965us/step - loss: 0.0966 - val_loss: 0.0958\n",
      "Epoch 26/50\n",
      "60000/60000 [==============================] - 58s 969us/step - loss: 0.0963 - val_loss: 0.0952\n",
      "Epoch 27/50\n",
      "60000/60000 [==============================] - 58s 964us/step - loss: 0.0959 - val_loss: 0.0946\n",
      "Epoch 28/50\n",
      "60000/60000 [==============================] - 58s 964us/step - loss: 0.0956 - val_loss: 0.0950\n",
      "Epoch 29/50\n",
      "60000/60000 [==============================] - 58s 964us/step - loss: 0.0954 - val_loss: 0.0939\n",
      "Epoch 30/50\n",
      "60000/60000 [==============================] - 58s 966us/step - loss: 0.0951 - val_loss: 0.0936\n",
      "Epoch 31/50\n",
      "60000/60000 [==============================] - 58s 967us/step - loss: 0.0948 - val_loss: 0.0936\n",
      "Epoch 32/50\n",
      "60000/60000 [==============================] - 58s 962us/step - loss: 0.0947 - val_loss: 0.0933\n",
      "Epoch 33/50\n",
      "60000/60000 [==============================] - 58s 967us/step - loss: 0.0945 - val_loss: 0.0933\n",
      "Epoch 34/50\n",
      "60000/60000 [==============================] - 58s 966us/step - loss: 0.0942 - val_loss: 0.0936\n",
      "Epoch 35/50\n",
      "60000/60000 [==============================] - 58s 963us/step - loss: 0.0940 - val_loss: 0.0932\n",
      "Epoch 36/50\n",
      "60000/60000 [==============================] - 59s 981us/step - loss: 0.0938 - val_loss: 0.0926\n",
      "Epoch 37/50\n",
      "60000/60000 [==============================] - 59s 983us/step - loss: 0.0936 - val_loss: 0.0924\n",
      "Epoch 38/50\n",
      "60000/60000 [==============================] - 59s 976us/step - loss: 0.0934 - val_loss: 0.0924\n",
      "Epoch 39/50\n",
      "60000/60000 [==============================] - 57s 958us/step - loss: 0.0932 - val_loss: 0.0918\n",
      "Epoch 40/50\n",
      "60000/60000 [==============================] - 57s 958us/step - loss: 0.0930 - val_loss: 0.0917\n",
      "Epoch 41/50\n",
      "60000/60000 [==============================] - 59s 977us/step - loss: 0.0929 - val_loss: 0.0919\n",
      "Epoch 42/50\n",
      "60000/60000 [==============================] - 58s 962us/step - loss: 0.0928 - val_loss: 0.0923\n",
      "Epoch 43/50\n",
      "60000/60000 [==============================] - 58s 960us/step - loss: 0.0926 - val_loss: 0.0914\n",
      "Epoch 44/50\n",
      "60000/60000 [==============================] - 58s 961us/step - loss: 0.0924 - val_loss: 0.0916\n",
      "Epoch 45/50\n",
      "60000/60000 [==============================] - 59s 977us/step - loss: 0.0922 - val_loss: 0.0910\n",
      "Epoch 46/50\n",
      "60000/60000 [==============================] - 58s 964us/step - loss: 0.0922 - val_loss: 0.0912\n",
      "Epoch 47/50\n",
      "60000/60000 [==============================] - 58s 963us/step - loss: 0.0920 - val_loss: 0.0908\n",
      "Epoch 48/50\n",
      "60000/60000 [==============================] - 58s 972us/step - loss: 0.0919 - val_loss: 0.0906\n",
      "Epoch 49/50\n",
      "60000/60000 [==============================] - 58s 973us/step - loss: 0.0918 - val_loss: 0.0906\n",
      "Epoch 50/50\n",
      "60000/60000 [==============================] - 58s 972us/step - loss: 0.0917 - val_loss: 0.0906\n"
     ]
    },
    {
     "data": {
      "text/plain": [
       "<keras.callbacks.callbacks.History at 0x1ee2232bb08>"
      ]
     },
     "execution_count": 101,
     "metadata": {},
     "output_type": "execute_result"
    }
   ],
   "source": [
    "Conv_autoencoder.fit(x_train, x_train,\n",
    "                epochs=50,\n",
    "                batch_size=256,\n",
    "                shuffle=True,\n",
    "                validation_data=(x_test, x_test))\n"
   ]
  },
  {
   "cell_type": "code",
   "execution_count": 22,
   "metadata": {},
   "outputs": [],
   "source": [
    "decoded_imgs = Conv_autoencoder.predict(x_test)"
   ]
  },
  {
   "cell_type": "code",
   "execution_count": 23,
   "metadata": {
    "colab": {
     "base_uri": "https://localhost:8080/",
     "height": 248
    },
    "colab_type": "code",
    "id": "OLYp-FEF9oPV",
    "outputId": "5fb386f5-6a59-479f-c738-3ec7096d0208"
   },
   "outputs": [
    {
     "data": {
      "image/png": "[encoded data removed]",
      "text/plain": [
       "<Figure size 1440x288 with 20 Axes>"
      ]
     },
     "metadata": {
      "needs_background": "light"
     },
     "output_type": "display_data"
    }
   ],
   "source": [
    "import matplotlib.pyplot as plt\n",
    "\n",
    "n = 10  # how many digits we will display\n",
    "plt.figure(figsize=(20, 4))\n",
    "for i in range(n):\n",
    "    # display original\n",
    "    ax = plt.subplot(2, n, i + 1)\n",
    "    plt.imshow(x_test[i].reshape(28, 28))\n",
    "    plt.gray()\n",
    "    ax.get_xaxis().set_visible(False)\n",
    "    ax.get_yaxis().set_visible(False)\n",
    "\n",
    "    # display reconstruction\n",
    "    ax = plt.subplot(2, n, i + 1 + n)\n",
    "    plt.imshow(decoded_imgs[i].reshape(28, 28))\n",
    "    plt.gray()\n",
    "    ax.get_xaxis().set_visible(False)\n",
    "    ax.get_yaxis().set_visible(False)\n",
    "plt.show()"
   ]
  },
  {
   "cell_type": "code",
   "execution_count": 24,
   "metadata": {
    "colab": {},
    "colab_type": "code",
    "id": "dj81mcoCcFUB"
   },
   "outputs": [],
   "source": [
    "Conv_autoencoder.save('my_model1')"
   ]
  },
  {
   "cell_type": "code",
   "execution_count": 95,
   "metadata": {
    "colab": {},
    "colab_type": "code",
    "id": "XFyzRmKbeOk1"
   },
   "outputs": [],
   "source": [
    "import keras\n",
    "model = keras.models.load_model('my_model')"
   ]
  },
  {
   "cell_type": "markdown",
   "metadata": {
    "colab_type": "text",
    "id": "ZMXtxNdkwMEt"
   },
   "source": [
    "# Unsupervised Pretraining "
   ]
  },
  {
   "cell_type": "code",
   "execution_count": 96,
   "metadata": {
    "colab": {
     "base_uri": "https://localhost:8080/",
     "height": 619
    },
    "colab_type": "code",
    "id": "aON7xS3LwLBV",
    "outputId": "25d7074e-367e-4b79-a5e2-c60441ac3d86"
   },
   "outputs": [
    {
     "name": "stdout",
     "output_type": "stream",
     "text": [
      "Model: \"model_6\"\n",
      "_________________________________________________________________\n",
      "Layer (type)                 Output Shape              Param #   \n",
      "=================================================================\n",
      "input_6 (InputLayer)         (None, 28, 28, 1)         0         \n",
      "_________________________________________________________________\n",
      "conv2d_29 (Conv2D)           (None, 28, 28, 16)        160       \n",
      "_________________________________________________________________\n",
      "max_pooling2d_13 (MaxPooling (None, 14, 14, 16)        0         \n",
      "_________________________________________________________________\n",
      "conv2d_30 (Conv2D)           (None, 14, 14, 8)         1160      \n",
      "_________________________________________________________________\n",
      "max_pooling2d_14 (MaxPooling (None, 7, 7, 8)           0         \n",
      "_________________________________________________________________\n",
      "conv2d_31 (Conv2D)           (None, 7, 7, 8)           584       \n",
      "=================================================================\n",
      "Total params: 4,385\n",
      "Trainable params: 4,385\n",
      "Non-trainable params: 0\n",
      "_________________________________________________________________\n"
     ]
    },
    {
     "name": "stderr",
     "output_type": "stream",
     "text": [
      "C:\\Users\\you17\\anaconda3\\envs\\tensorflow\\lib\\site-packages\\keras\\engine\\training.py:297: UserWarning: Discrepancy between trainable weights and collected trainable weights, did you set `model.trainable` without calling `model.compile` after ?\n",
      "  'Discrepancy between trainable weights and collected trainable'\n"
     ]
    }
   ],
   "source": [
    "from keras.layers import *\n",
    "from keras.models import *\n",
    "\n",
    "model = keras.models.load_model('my_model')\n",
    "#Remove Decoder \n",
    "[model.layers.pop() for i in range(7, 15)]\n",
    "\n",
    "model.summary()\n",
    "\n",
    "\n"
   ]
  },
  {
   "cell_type": "code",
   "execution_count": 97,
   "metadata": {
    "colab": {
     "base_uri": "https://localhost:8080/",
     "height": 721
    },
    "colab_type": "code",
    "id": "qLfUKRC_S7kf",
    "outputId": "1e93fdfb-5ce4-4e0e-c458-c7adc6a43997"
   },
   "outputs": [],
   "source": [
    "#Freeze Model\n",
    "model.trainables= True\n",
    "\n",
    "\n",
    "#Make model Sequential\n",
    "model = keras.Sequential([model])\n",
    "model.add(Flatten())\n",
    "\n",
    "model.add(Dense(units=10, activation='softmax'))\n"
   ]
  },
  {
   "cell_type": "code",
   "execution_count": 98,
   "metadata": {
    "colab": {
     "base_uri": "https://localhost:8080/",
     "height": 184
    },
    "colab_type": "code",
    "id": "i_fCLGgIgAQm",
    "outputId": "57d30256-c001-4def-cb10-c863f50ead8c"
   },
   "outputs": [
    {
     "name": "stdout",
     "output_type": "stream",
     "text": [
      "Model: \"sequential_7\"\n",
      "_________________________________________________________________\n",
      "Layer (type)                 Output Shape              Param #   \n",
      "=================================================================\n",
      "model_6 (Model)              (None, 28, 28, 1)         1904      \n",
      "_________________________________________________________________\n",
      "flatten_7 (Flatten)          (None, 784)               0         \n",
      "_________________________________________________________________\n",
      "dense_6 (Dense)              (None, 10)                7850      \n",
      "=================================================================\n",
      "Total params: 9,754\n",
      "Trainable params: 9,754\n",
      "Non-trainable params: 0\n",
      "_________________________________________________________________\n"
     ]
    }
   ],
   "source": [
    "\n",
    "\n",
    "model.compile(optimizer='adam', loss='sparse_categorical_crossentropy',\n",
    "              metrics=['accuracy'])\n",
    "model.summary()"
   ]
  },
  {
   "cell_type": "markdown",
   "metadata": {},
   "source": [
    "# Training Model with Random 100 samples"
   ]
  },
  {
   "cell_type": "code",
   "execution_count": 99,
   "metadata": {},
   "outputs": [
    {
     "name": "stdout",
     "output_type": "stream",
     "text": [
      "(60000, 28, 28, 1)\n"
     ]
    },
    {
     "data": {
      "text/plain": [
       "(100, 28, 28, 1)"
      ]
     },
     "execution_count": 99,
     "metadata": {},
     "output_type": "execute_result"
    }
   ],
   "source": [
    "(x_train, train_label), (x_test, test_label) = tf.keras.datasets.mnist.load_data()\n",
    "\n",
    "x_train = x_train.astype('float32') / 255.\n",
    "x_test = x_test.astype('float32') / 255.\n",
    "x_train = np.reshape(x_train, (len(x_train), 28, 28, 1))  # adapt this if using `channels_first` image data format\n",
    "x_test = np.reshape(x_test, (len(x_test), 28, 28, 1))  # adapt this if using `channels_first` image data format\n",
    "x_train = np.reshape(x_train, (len(x_train), 28, 28, 1))  # adapt this if using `channels_first` image data format\n",
    "x_test = np.reshape(x_test, (len(x_test), 28, 28, 1))\n",
    "\n",
    "\n",
    "idx = np.random.randint(6000, size=100)\n",
    "\n",
    "train_label = np.take(train_label, idx)\n",
    "x_train = np.take(x_train, idx, axis=0)\n"
   ]
  },
  {
   "cell_type": "code",
   "execution_count": 100,
   "metadata": {
    "colab": {
     "base_uri": "https://localhost:8080/",
     "height": 486
    },
    "colab_type": "code",
    "id": "56rWlkwcBbSK",
    "outputId": "8e32a393-47ef-420a-8a33-c083a288841a"
   },
   "outputs": [
    {
     "name": "stdout",
     "output_type": "stream",
     "text": [
      "Train on 100 samples, validate on 10000 samples\n",
      "Epoch 1/50\n",
      "100/100 [==============================] - 3s 33ms/step - loss: 2.3153 - accuracy: 0.2300 - val_loss: 2.2314 - val_accuracy: 0.1900\n",
      "Epoch 2/50\n",
      "100/100 [==============================] - 3s 31ms/step - loss: 2.0556 - accuracy: 0.3500 - val_loss: 2.0990 - val_accuracy: 0.2907\n",
      "Epoch 3/50\n",
      "100/100 [==============================] - 3s 31ms/step - loss: 1.8210 - accuracy: 0.5000 - val_loss: 1.9717 - val_accuracy: 0.3460\n",
      "Epoch 4/50\n",
      "100/100 [==============================] - 3s 31ms/step - loss: 1.6173 - accuracy: 0.6500 - val_loss: 1.8057 - val_accuracy: 0.4236\n",
      "Epoch 5/50\n",
      "100/100 [==============================] - 3s 32ms/step - loss: 1.4325 - accuracy: 0.7500 - val_loss: 1.6578 - val_accuracy: 0.5085\n",
      "Epoch 6/50\n",
      "100/100 [==============================] - 3s 31ms/step - loss: 1.2759 - accuracy: 0.8100 - val_loss: 1.5389 - val_accuracy: 0.5633\n",
      "Epoch 7/50\n",
      "100/100 [==============================] - 3s 31ms/step - loss: 1.1241 - accuracy: 0.8600 - val_loss: 1.4440 - val_accuracy: 0.5951\n",
      "Epoch 8/50\n",
      "100/100 [==============================] - 3s 32ms/step - loss: 1.0030 - accuracy: 0.8500 - val_loss: 1.3526 - val_accuracy: 0.6259\n",
      "Epoch 9/50\n",
      "100/100 [==============================] - 3s 32ms/step - loss: 0.8888 - accuracy: 0.8900 - val_loss: 1.2679 - val_accuracy: 0.6549\n",
      "Epoch 10/50\n",
      "100/100 [==============================] - 3s 32ms/step - loss: 0.7911 - accuracy: 0.9200 - val_loss: 1.1906 - val_accuracy: 0.6719\n",
      "Epoch 11/50\n",
      "100/100 [==============================] - 3s 32ms/step - loss: 0.7036 - accuracy: 0.9300 - val_loss: 1.1278 - val_accuracy: 0.6817\n",
      "Epoch 12/50\n",
      "100/100 [==============================] - 3s 32ms/step - loss: 0.6301 - accuracy: 0.9300 - val_loss: 1.0662 - val_accuracy: 0.6921\n",
      "Epoch 13/50\n",
      "100/100 [==============================] - 3s 32ms/step - loss: 0.5635 - accuracy: 0.9500 - val_loss: 1.0229 - val_accuracy: 0.6986\n",
      "Epoch 14/50\n",
      "100/100 [==============================] - 3s 32ms/step - loss: 0.5051 - accuracy: 0.9600 - val_loss: 0.9888 - val_accuracy: 0.6998\n",
      "Epoch 15/50\n",
      "100/100 [==============================] - 3s 32ms/step - loss: 0.4536 - accuracy: 0.9500 - val_loss: 0.9513 - val_accuracy: 0.7061\n",
      "Epoch 16/50\n",
      "100/100 [==============================] - 3s 31ms/step - loss: 0.4071 - accuracy: 0.9600 - val_loss: 0.9192 - val_accuracy: 0.7081\n",
      "Epoch 17/50\n",
      "100/100 [==============================] - 3s 32ms/step - loss: 0.3638 - accuracy: 0.9700 - val_loss: 0.8989 - val_accuracy: 0.7082\n",
      "Epoch 18/50\n",
      "100/100 [==============================] - 3s 32ms/step - loss: 0.3282 - accuracy: 0.9700 - val_loss: 0.8728 - val_accuracy: 0.7165\n",
      "Epoch 19/50\n",
      "100/100 [==============================] - 3s 32ms/step - loss: 0.2963 - accuracy: 0.9700 - val_loss: 0.8646 - val_accuracy: 0.7134\n",
      "Epoch 20/50\n",
      "100/100 [==============================] - 3s 33ms/step - loss: 0.2660 - accuracy: 0.9800 - val_loss: 0.8394 - val_accuracy: 0.7209\n",
      "Epoch 21/50\n",
      "100/100 [==============================] - 3s 31ms/step - loss: 0.2369 - accuracy: 0.9900 - val_loss: 0.8299 - val_accuracy: 0.7199\n",
      "Epoch 22/50\n",
      "100/100 [==============================] - 3s 32ms/step - loss: 0.2153 - accuracy: 0.9900 - val_loss: 0.8224 - val_accuracy: 0.7209\n",
      "Epoch 23/50\n",
      "100/100 [==============================] - 3s 32ms/step - loss: 0.1931 - accuracy: 0.9900 - val_loss: 0.8106 - val_accuracy: 0.7257\n",
      "Epoch 24/50\n",
      "100/100 [==============================] - 3s 31ms/step - loss: 0.1733 - accuracy: 1.0000 - val_loss: 0.7971 - val_accuracy: 0.7310\n",
      "Epoch 25/50\n",
      "100/100 [==============================] - 3s 32ms/step - loss: 0.1559 - accuracy: 1.0000 - val_loss: 0.7945 - val_accuracy: 0.7347\n",
      "Epoch 26/50\n",
      "100/100 [==============================] - 3s 34ms/step - loss: 0.1402 - accuracy: 1.0000 - val_loss: 0.7880 - val_accuracy: 0.7354\n",
      "Epoch 27/50\n",
      "100/100 [==============================] - 3s 33ms/step - loss: 0.1262 - accuracy: 1.0000 - val_loss: 0.7924 - val_accuracy: 0.7305\n",
      "Epoch 28/50\n",
      "100/100 [==============================] - 3s 33ms/step - loss: 0.1139 - accuracy: 1.0000 - val_loss: 0.7941 - val_accuracy: 0.7320\n",
      "Epoch 29/50\n",
      "100/100 [==============================] - 3s 33ms/step - loss: 0.1038 - accuracy: 1.0000 - val_loss: 0.7860 - val_accuracy: 0.7367\n",
      "Epoch 30/50\n",
      "100/100 [==============================] - 3s 32ms/step - loss: 0.0939 - accuracy: 1.0000 - val_loss: 0.7791 - val_accuracy: 0.7407\n",
      "Epoch 31/50\n",
      "100/100 [==============================] - 3s 32ms/step - loss: 0.0831 - accuracy: 1.0000 - val_loss: 0.7839 - val_accuracy: 0.7407\n",
      "Epoch 32/50\n",
      "100/100 [==============================] - 3s 34ms/step - loss: 0.0747 - accuracy: 1.0000 - val_loss: 0.7914 - val_accuracy: 0.7357\n",
      "Epoch 33/50\n",
      "100/100 [==============================] - 3s 32ms/step - loss: 0.0672 - accuracy: 1.0000 - val_loss: 0.7957 - val_accuracy: 0.7359\n",
      "Epoch 34/50\n",
      "100/100 [==============================] - 3s 32ms/step - loss: 0.0611 - accuracy: 1.0000 - val_loss: 0.7968 - val_accuracy: 0.7357\n",
      "Epoch 35/50\n",
      "100/100 [==============================] - 3s 33ms/step - loss: 0.0555 - accuracy: 1.0000 - val_loss: 0.7955 - val_accuracy: 0.7387\n",
      "Epoch 36/50\n",
      "100/100 [==============================] - 3s 34ms/step - loss: 0.0507 - accuracy: 1.0000 - val_loss: 0.8015 - val_accuracy: 0.7393\n",
      "Epoch 37/50\n",
      "100/100 [==============================] - 3s 32ms/step - loss: 0.0467 - accuracy: 1.0000 - val_loss: 0.8076 - val_accuracy: 0.7375\n",
      "Epoch 38/50\n",
      "100/100 [==============================] - 3s 32ms/step - loss: 0.0424 - accuracy: 1.0000 - val_loss: 0.8089 - val_accuracy: 0.7384\n",
      "Epoch 39/50\n",
      "100/100 [==============================] - 3s 32ms/step - loss: 0.0393 - accuracy: 1.0000 - val_loss: 0.8095 - val_accuracy: 0.7404\n",
      "Epoch 40/50\n",
      "100/100 [==============================] - 3s 33ms/step - loss: 0.0362 - accuracy: 1.0000 - val_loss: 0.8195 - val_accuracy: 0.7371\n",
      "Epoch 41/50\n",
      "100/100 [==============================] - 3s 32ms/step - loss: 0.0333 - accuracy: 1.0000 - val_loss: 0.8194 - val_accuracy: 0.7391\n",
      "Epoch 42/50\n",
      "100/100 [==============================] - 3s 32ms/step - loss: 0.0308 - accuracy: 1.0000 - val_loss: 0.8245 - val_accuracy: 0.7398\n",
      "Epoch 43/50\n",
      "100/100 [==============================] - 3s 32ms/step - loss: 0.0286 - accuracy: 1.0000 - val_loss: 0.8293 - val_accuracy: 0.7385\n",
      "Epoch 44/50\n",
      "100/100 [==============================] - 3s 33ms/step - loss: 0.0265 - accuracy: 1.0000 - val_loss: 0.8332 - val_accuracy: 0.7384\n",
      "Epoch 45/50\n",
      "100/100 [==============================] - 3s 33ms/step - loss: 0.0247 - accuracy: 1.0000 - val_loss: 0.8378 - val_accuracy: 0.7379\n",
      "Epoch 46/50\n",
      "100/100 [==============================] - 3s 33ms/step - loss: 0.0231 - accuracy: 1.0000 - val_loss: 0.8459 - val_accuracy: 0.7370\n",
      "Epoch 47/50\n",
      "100/100 [==============================] - 4s 35ms/step - loss: 0.0217 - accuracy: 1.0000 - val_loss: 0.8435 - val_accuracy: 0.7385\n",
      "Epoch 48/50\n",
      "100/100 [==============================] - 3s 31ms/step - loss: 0.0203 - accuracy: 1.0000 - val_loss: 0.8475 - val_accuracy: 0.7396\n",
      "Epoch 49/50\n",
      "100/100 [==============================] - 3s 31ms/step - loss: 0.0190 - accuracy: 1.0000 - val_loss: 0.8501 - val_accuracy: 0.7397\n",
      "Epoch 50/50\n",
      "100/100 [==============================] - 3s 32ms/step - loss: 0.0178 - accuracy: 1.0000 - val_loss: 0.8569 - val_accuracy: 0.7396\n"
     ]
    },
    {
     "data": {
      "text/plain": [
       "<keras.callbacks.callbacks.History at 0x1554b94c248>"
      ]
     },
     "execution_count": 100,
     "metadata": {},
     "output_type": "execute_result"
    }
   ],
   "source": [
    "\n",
    "model.fit(x_train, train_label,\n",
    "                epochs=50,\n",
    "                batch_size=20,\n",
    "                shuffle=True,\n",
    "          validation_data=(x_test, test_label))"
   ]
  },
  {
   "cell_type": "code",
   "execution_count": 108,
   "metadata": {},
   "outputs": [
    {
     "name": "stdout",
     "output_type": "stream",
     "text": [
      "Model: \"sequential_12\"\n",
      "_________________________________________________________________\n",
      "Layer (type)                 Output Shape              Param #   \n",
      "=================================================================\n",
      "conv2d_13 (Conv2D)           (None, 28, 28, 16)        160       \n",
      "_________________________________________________________________\n",
      "max_pooling2d_9 (MaxPooling2 (None, 14, 14, 16)        0         \n",
      "_________________________________________________________________\n",
      "conv2d_14 (Conv2D)           (None, 14, 14, 8)         1160      \n",
      "_________________________________________________________________\n",
      "max_pooling2d_10 (MaxPooling (None, 7, 7, 8)           0         \n",
      "_________________________________________________________________\n",
      "conv2d_15 (Conv2D)           (None, 7, 7, 8)           584       \n",
      "_________________________________________________________________\n",
      "flatten_12 (Flatten)         (None, 392)               0         \n",
      "_________________________________________________________________\n",
      "dense_11 (Dense)             (None, 10)                3930      \n",
      "=================================================================\n",
      "Total params: 5,834\n",
      "Trainable params: 5,834\n",
      "Non-trainable params: 0\n",
      "_________________________________________________________________\n"
     ]
    }
   ],
   "source": [
    "\n",
    "# Define Sequential model\n",
    "model = keras.Sequential(\n",
    "    [   \n",
    "        Conv2D(16, (3, 3), activation='relu', padding='same'),\n",
    "        MaxPooling2D((2, 2), padding='same'),\n",
    "        Conv2D(8, (3, 3), activation='relu', padding='same'),\n",
    "        MaxPooling2D((2, 2), padding='same'),\n",
    "        Conv2D(8, (3, 3), activation='relu', padding='same'),\n",
    "        Flatten(),\n",
    "        Dense(units=10, activation='softmax')\n",
    "    ]\n",
    ")\n",
    "\n",
    "x = model(Input(shape=(28, 28, 1)))          \n",
    "\n",
    "model.compile(optimizer='adam', loss='sparse_categorical_crossentropy',\n",
    "              metrics=['accuracy'])\n",
    "model.summary()"
   ]
  },
  {
   "cell_type": "code",
   "execution_count": 109,
   "metadata": {},
   "outputs": [
    {
     "name": "stdout",
     "output_type": "stream",
     "text": [
      "Train on 100 samples, validate on 10000 samples\n",
      "Epoch 1/50\n",
      "100/100 [==============================] - 1s 15ms/step - loss: 2.3141 - accuracy: 0.0300 - val_loss: 2.2991 - val_accuracy: 0.0921\n",
      "Epoch 2/50\n",
      "100/100 [==============================] - 1s 12ms/step - loss: 2.2814 - accuracy: 0.1100 - val_loss: 2.2812 - val_accuracy: 0.1281\n",
      "Epoch 3/50\n",
      "100/100 [==============================] - 1s 12ms/step - loss: 2.2491 - accuracy: 0.1800 - val_loss: 2.2620 - val_accuracy: 0.1520\n",
      "Epoch 4/50\n",
      "100/100 [==============================] - 1s 12ms/step - loss: 2.2136 - accuracy: 0.2400 - val_loss: 2.2366 - val_accuracy: 0.1900\n",
      "Epoch 5/50\n",
      "100/100 [==============================] - 1s 12ms/step - loss: 2.1601 - accuracy: 0.3000 - val_loss: 2.2050 - val_accuracy: 0.2269\n",
      "Epoch 6/50\n",
      "100/100 [==============================] - 1s 13ms/step - loss: 2.0925 - accuracy: 0.3400 - val_loss: 2.1651 - val_accuracy: 0.2771\n",
      "Epoch 7/50\n",
      "100/100 [==============================] - 1s 12ms/step - loss: 2.0035 - accuracy: 0.4100 - val_loss: 2.1102 - val_accuracy: 0.3158\n",
      "Epoch 8/50\n",
      "100/100 [==============================] - 1s 13ms/step - loss: 1.9054 - accuracy: 0.4500 - val_loss: 2.0380 - val_accuracy: 0.3623\n",
      "Epoch 9/50\n",
      "100/100 [==============================] - 1s 12ms/step - loss: 1.7671 - accuracy: 0.5300 - val_loss: 1.9164 - val_accuracy: 0.4015\n",
      "Epoch 10/50\n",
      "100/100 [==============================] - 1s 12ms/step - loss: 1.5992 - accuracy: 0.5900 - val_loss: 1.7444 - val_accuracy: 0.4463\n",
      "Epoch 11/50\n",
      "100/100 [==============================] - 1s 12ms/step - loss: 1.3793 - accuracy: 0.6600 - val_loss: 1.5186 - val_accuracy: 0.5247\n",
      "Epoch 12/50\n",
      "100/100 [==============================] - 1s 12ms/step - loss: 1.1418 - accuracy: 0.7400 - val_loss: 1.2882 - val_accuracy: 0.6252\n",
      "Epoch 13/50\n",
      "100/100 [==============================] - 1s 12ms/step - loss: 0.9100 - accuracy: 0.8300 - val_loss: 1.1114 - val_accuracy: 0.6564\n",
      "Epoch 14/50\n",
      "100/100 [==============================] - 1s 12ms/step - loss: 0.7305 - accuracy: 0.8300 - val_loss: 1.0571 - val_accuracy: 0.6519\n",
      "Epoch 15/50\n",
      "100/100 [==============================] - 1s 13ms/step - loss: 0.5899 - accuracy: 0.8400 - val_loss: 0.9733 - val_accuracy: 0.6729\n",
      "Epoch 16/50\n",
      "100/100 [==============================] - 1s 12ms/step - loss: 0.4990 - accuracy: 0.8300 - val_loss: 0.9392 - val_accuracy: 0.6823\n",
      "Epoch 17/50\n",
      "100/100 [==============================] - 1s 12ms/step - loss: 0.4118 - accuracy: 0.8700 - val_loss: 0.9343 - val_accuracy: 0.6897\n",
      "Epoch 18/50\n",
      "100/100 [==============================] - 1s 12ms/step - loss: 0.3487 - accuracy: 0.8800 - val_loss: 0.8800 - val_accuracy: 0.7084\n",
      "Epoch 19/50\n",
      "100/100 [==============================] - 1s 12ms/step - loss: 0.2760 - accuracy: 0.9300 - val_loss: 0.8189 - val_accuracy: 0.7324\n",
      "Epoch 20/50\n",
      "100/100 [==============================] - 1s 12ms/step - loss: 0.2359 - accuracy: 0.9300 - val_loss: 0.8111 - val_accuracy: 0.7411\n",
      "Epoch 21/50\n",
      "100/100 [==============================] - 1s 12ms/step - loss: 0.2002 - accuracy: 0.9600 - val_loss: 0.8224 - val_accuracy: 0.7424\n",
      "Epoch 22/50\n",
      "100/100 [==============================] - 1s 12ms/step - loss: 0.1597 - accuracy: 0.9800 - val_loss: 0.8488 - val_accuracy: 0.7377\n",
      "Epoch 23/50\n",
      "100/100 [==============================] - 1s 12ms/step - loss: 0.1441 - accuracy: 0.9800 - val_loss: 0.8451 - val_accuracy: 0.7458\n",
      "Epoch 24/50\n",
      "100/100 [==============================] - 1s 12ms/step - loss: 0.1294 - accuracy: 0.9700 - val_loss: 0.8056 - val_accuracy: 0.7607\n",
      "Epoch 25/50\n",
      "100/100 [==============================] - 1s 12ms/step - loss: 0.0997 - accuracy: 0.9900 - val_loss: 0.8463 - val_accuracy: 0.7546\n",
      "Epoch 26/50\n",
      "100/100 [==============================] - 1s 12ms/step - loss: 0.0893 - accuracy: 0.9900 - val_loss: 0.8508 - val_accuracy: 0.7563\n",
      "Epoch 27/50\n",
      "100/100 [==============================] - 1s 12ms/step - loss: 0.0757 - accuracy: 1.0000 - val_loss: 0.8443 - val_accuracy: 0.7600\n",
      "Epoch 28/50\n",
      "100/100 [==============================] - 1s 12ms/step - loss: 0.0636 - accuracy: 1.0000 - val_loss: 0.8563 - val_accuracy: 0.7668\n",
      "Epoch 29/50\n",
      "100/100 [==============================] - 1s 12ms/step - loss: 0.0612 - accuracy: 0.9900 - val_loss: 0.8819 - val_accuracy: 0.7636\n",
      "Epoch 30/50\n",
      "100/100 [==============================] - 1s 12ms/step - loss: 0.0487 - accuracy: 1.0000 - val_loss: 0.9284 - val_accuracy: 0.7526\n",
      "Epoch 31/50\n",
      "100/100 [==============================] - 1s 12ms/step - loss: 0.0459 - accuracy: 1.0000 - val_loss: 0.8967 - val_accuracy: 0.7616\n",
      "Epoch 32/50\n",
      "100/100 [==============================] - 1s 12ms/step - loss: 0.0390 - accuracy: 1.0000 - val_loss: 0.9016 - val_accuracy: 0.7676\n",
      "Epoch 33/50\n",
      "100/100 [==============================] - 1s 12ms/step - loss: 0.0340 - accuracy: 1.0000 - val_loss: 0.9224 - val_accuracy: 0.7656\n",
      "Epoch 34/50\n",
      "100/100 [==============================] - 1s 12ms/step - loss: 0.0300 - accuracy: 1.0000 - val_loss: 0.9433 - val_accuracy: 0.7594\n",
      "Epoch 35/50\n",
      "100/100 [==============================] - 1s 12ms/step - loss: 0.0275 - accuracy: 1.0000 - val_loss: 0.9519 - val_accuracy: 0.7621\n",
      "Epoch 36/50\n",
      "100/100 [==============================] - 1s 12ms/step - loss: 0.0231 - accuracy: 1.0000 - val_loss: 0.9484 - val_accuracy: 0.7663\n",
      "Epoch 37/50\n",
      "100/100 [==============================] - 1s 13ms/step - loss: 0.0223 - accuracy: 1.0000 - val_loss: 0.9524 - val_accuracy: 0.7688\n",
      "Epoch 38/50\n",
      "100/100 [==============================] - 1s 12ms/step - loss: 0.0204 - accuracy: 1.0000 - val_loss: 0.9774 - val_accuracy: 0.7634\n",
      "Epoch 39/50\n",
      "100/100 [==============================] - 1s 12ms/step - loss: 0.0183 - accuracy: 1.0000 - val_loss: 0.9940 - val_accuracy: 0.7625\n",
      "Epoch 40/50\n",
      "100/100 [==============================] - 1s 12ms/step - loss: 0.0169 - accuracy: 1.0000 - val_loss: 0.9802 - val_accuracy: 0.7684\n",
      "Epoch 41/50\n",
      "100/100 [==============================] - 1s 12ms/step - loss: 0.0151 - accuracy: 1.0000 - val_loss: 0.9923 - val_accuracy: 0.7692\n",
      "Epoch 42/50\n",
      "100/100 [==============================] - 1s 12ms/step - loss: 0.0138 - accuracy: 1.0000 - val_loss: 1.0001 - val_accuracy: 0.7690\n",
      "Epoch 43/50\n",
      "100/100 [==============================] - 1s 12ms/step - loss: 0.0126 - accuracy: 1.0000 - val_loss: 1.0158 - val_accuracy: 0.7654\n",
      "Epoch 44/50\n",
      "100/100 [==============================] - 1s 12ms/step - loss: 0.0119 - accuracy: 1.0000 - val_loss: 1.0283 - val_accuracy: 0.7656\n",
      "Epoch 45/50\n",
      "100/100 [==============================] - 1s 12ms/step - loss: 0.0110 - accuracy: 1.0000 - val_loss: 1.0173 - val_accuracy: 0.7693\n",
      "Epoch 46/50\n",
      "100/100 [==============================] - 1s 12ms/step - loss: 0.0104 - accuracy: 1.0000 - val_loss: 1.0309 - val_accuracy: 0.7683\n",
      "Epoch 47/50\n",
      "100/100 [==============================] - 1s 12ms/step - loss: 0.0095 - accuracy: 1.0000 - val_loss: 1.0325 - val_accuracy: 0.7694\n",
      "Epoch 48/50\n",
      "100/100 [==============================] - 1s 12ms/step - loss: 0.0090 - accuracy: 1.0000 - val_loss: 1.0407 - val_accuracy: 0.7694\n",
      "Epoch 49/50\n",
      "100/100 [==============================] - 1s 12ms/step - loss: 0.0084 - accuracy: 1.0000 - val_loss: 1.0462 - val_accuracy: 0.7695\n",
      "Epoch 50/50\n",
      "100/100 [==============================] - 1s 12ms/step - loss: 0.0079 - accuracy: 1.0000 - val_loss: 1.0552 - val_accuracy: 0.7700\n"
     ]
    },
    {
     "data": {
      "text/plain": [
       "<keras.callbacks.callbacks.History at 0x15555e20f88>"
      ]
     },
     "execution_count": 109,
     "metadata": {},
     "output_type": "execute_result"
    }
   ],
   "source": [
    "\n",
    "model.fit(x_train, train_label,\n",
    "                epochs=50,\n",
    "                batch_size=20,\n",
    "                shuffle=True,\n",
    "          validation_data=(x_test, test_label))"
   ]
  },
  {
   "cell_type": "markdown",
   "metadata": {},
   "source": [
    "1. Transfer learning with same model.trainables = false, validation accurracy =  0.7466\n",
    "2. Transfer learning with same model.trainables = True, validation accurracy =  0.7396\n",
    "3. Same Model without transfer learning , validation accuracy = 0.7700"
   ]
  },
  {
   "cell_type": "markdown",
   "metadata": {},
   "source": [
    "Try a more interesting dataset?"
   ]
  },
  {
   "cell_type": "code",
   "execution_count": null,
   "metadata": {},
   "outputs": [],
   "source": []
  }
 ],
 "metadata": {
  "colab": {
   "name": "Untitled4.ipynb",
   "provenance": [],
   "toc_visible": true
  },
  "kernelspec": {
   "display_name": "Python 3",
   "language": "python",
   "name": "python3"
  },
  "language_info": {
   "codemirror_mode": {
    "name": "ipython",
    "version": 3
   },
   "file_extension": ".py",
   "mimetype": "text/x-python",
   "name": "python",
   "nbconvert_exporter": "python",
   "pygments_lexer": "ipython3",
   "version": "3.7.6"
  }
 },
 "nbformat": 4,
 "nbformat_minor": 1
}
